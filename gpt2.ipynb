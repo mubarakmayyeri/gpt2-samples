{
 "cells": [
  {
   "attachments": {},
   "cell_type": "markdown",
   "metadata": {},
   "source": [
    "# GPT2 - Exercises"
   ]
  },
  {
   "cell_type": "code",
   "execution_count": 2,
   "metadata": {},
   "outputs": [
    {
     "name": "stderr",
     "output_type": "stream",
     "text": [
      "All model checkpoint layers were used when initializing TFGPT2LMHeadModel.\n",
      "\n",
      "All the layers of TFGPT2LMHeadModel were initialized from the model checkpoint at gpt2.\n",
      "If your task is similar to the task the model of the checkpoint was trained on, you can already use TFGPT2LMHeadModel for predictions without further training.\n"
     ]
    }
   ],
   "source": [
    "from transformers import pipeline, set_seed\n",
    "\n",
    "generator = pipeline('text-generation', model='gpt2')\n",
    "set_seed(42)"
   ]
  },
  {
   "cell_type": "code",
   "execution_count": 19,
   "metadata": {},
   "outputs": [],
   "source": [
    "# Generate outputs\n",
    "def generate(input: str, max_len: int, responses: int):\n",
    "    result = generator(input, max_length=max_len, num_return_sequences=responses)\n",
    "    \n",
    "    return result\n",
    "    "
   ]
  },
  {
   "cell_type": "code",
   "execution_count": 20,
   "metadata": {},
   "outputs": [],
   "source": [
    "# Print outputs\n",
    "def print_output(result):\n",
    "    for count, i in enumerate(result, 1):\n",
    "        print('Output ' + str(count) + ':')\n",
    "        print(i['generated_text'])\n",
    "        print('=============================================================')"
   ]
  },
  {
   "attachments": {},
   "cell_type": "markdown",
   "metadata": {},
   "source": [
    "### Outputs"
   ]
  },
  {
   "cell_type": "code",
   "execution_count": 21,
   "metadata": {},
   "outputs": [
    {
     "name": "stderr",
     "output_type": "stream",
     "text": [
      "Setting `pad_token_id` to `eos_token_id`:50256 for open-end generation.\n"
     ]
    },
    {
     "name": "stdout",
     "output_type": "stream",
     "text": [
      "Output 1:\n",
      "Gpt2 model is a natural extension of the RLS to simplify the operation of the vector control. However, the main disadvantage of this model is\n",
      "=============================================================\n",
      "Output 2:\n",
      "Gpt2 model is a natural way to build and install web apps.\n",
      "\n",
      "The second major change to the model is that there are no plugins\n",
      "=============================================================\n",
      "Output 3:\n",
      "Gpt2 model is a natural selection technique based on the simple notion that two or more genetic diseases cannot result in either a disease or an outcome.\n",
      "=============================================================\n"
     ]
    }
   ],
   "source": [
    "input = 'Gpt2 model is a natural'\n",
    "\n",
    "result = generate(input, 30, 3)\n",
    "\n",
    "print_output(result)"
   ]
  },
  {
   "cell_type": "code",
   "execution_count": 22,
   "metadata": {},
   "outputs": [
    {
     "name": "stderr",
     "output_type": "stream",
     "text": [
      "Setting `pad_token_id` to `eos_token_id`:50256 for open-end generation.\n"
     ]
    },
    {
     "name": "stdout",
     "output_type": "stream",
     "text": [
      "Output 1:\n",
      "Python is a programming language with a powerful architecture. This can help you find what parts of your code you need and where your code will be found. If you can find any bugs after doing this, feel free to mention it in the comments.\n",
      "\n",
      "=============================================================\n",
      "Output 2:\n",
      "Python is a programming language that can be easily distributed.\n",
      "\n",
      "It aims to be a single project and has a single feature: it allows you to write code with different types of variables. For example I write a generic interface to the functions which could\n",
      "=============================================================\n"
     ]
    }
   ],
   "source": [
    "input = 'Python is a programming language'\n",
    "\n",
    "result = generate(input, 50, 2)\n",
    "\n",
    "print_output(result)"
   ]
  }
 ],
 "metadata": {
  "kernelspec": {
   "display_name": "env",
   "language": "python",
   "name": "python3"
  },
  "language_info": {
   "codemirror_mode": {
    "name": "ipython",
    "version": 3
   },
   "file_extension": ".py",
   "mimetype": "text/x-python",
   "name": "python",
   "nbconvert_exporter": "python",
   "pygments_lexer": "ipython3",
   "version": "3.10.7"
  },
  "orig_nbformat": 4,
  "vscode": {
   "interpreter": {
    "hash": "f48342ffccf601c0e1a459e2f018022a224cde8f7a2f6c56943c57ef30903e23"
   }
  }
 },
 "nbformat": 4,
 "nbformat_minor": 2
}
