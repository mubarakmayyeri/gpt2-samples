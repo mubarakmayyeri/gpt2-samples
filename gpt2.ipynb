{
 "cells": [
  {
   "attachments": {},
   "cell_type": "markdown",
   "metadata": {},
   "source": [
    "# GPT2 - Exercises"
   ]
  },
  {
   "cell_type": "code",
   "execution_count": 24,
   "metadata": {},
   "outputs": [
    {
     "name": "stderr",
     "output_type": "stream",
     "text": [
      "All model checkpoint layers were used when initializing TFGPT2LMHeadModel.\n",
      "\n",
      "All the layers of TFGPT2LMHeadModel were initialized from the model checkpoint at gpt2.\n",
      "If your task is similar to the task the model of the checkpoint was trained on, you can already use TFGPT2LMHeadModel for predictions without further training.\n"
     ]
    }
   ],
   "source": [
    "from transformers import pipeline, set_seed\n",
    "import warnings\n",
    "warnings.filterwarnings('ignore')\n",
    "\n",
    "generator = pipeline('text-generation', model='gpt2')\n",
    "set_seed(42)"
   ]
  },
  {
   "cell_type": "code",
   "execution_count": 25,
   "metadata": {},
   "outputs": [],
   "source": [
    "# Generate outputs\n",
    "def generate(input: str, max_len: int, responses: int):\n",
    "    result = generator(input, max_length=max_len, num_return_sequences=responses)\n",
    "    \n",
    "    return result\n",
    "    "
   ]
  },
  {
   "cell_type": "code",
   "execution_count": 26,
   "metadata": {},
   "outputs": [],
   "source": [
    "# Print outputs\n",
    "def print_output(result):\n",
    "    for count, i in enumerate(result, 1):\n",
    "        print('Output ' + str(count) + ':')\n",
    "        print(i['generated_text'])\n",
    "        print('=============================================================')"
   ]
  },
  {
   "attachments": {},
   "cell_type": "markdown",
   "metadata": {},
   "source": [
    "### Outputs"
   ]
  },
  {
   "cell_type": "code",
   "execution_count": 27,
   "metadata": {},
   "outputs": [
    {
     "name": "stderr",
     "output_type": "stream",
     "text": [
      "Setting `pad_token_id` to `eos_token_id`:50256 for open-end generation.\n"
     ]
    },
    {
     "name": "stdout",
     "output_type": "stream",
     "text": [
      "Output 1:\n",
      "Gpt2 model is a natural for example to use and when you go to the server from home or in public, you get pretty much anything you\n",
      "=============================================================\n",
      "Output 2:\n",
      "Gpt2 model is a natural implementation of the HPT. It's only available through the Novell/Apollo team (Novell\n",
      "=============================================================\n",
      "Output 3:\n",
      "Gpt2 model is a natural, safe and easily useable alternative to the stock 1/4-inch threaded barrel.\n",
      "\n",
      "You can also\n",
      "=============================================================\n"
     ]
    }
   ],
   "source": [
    "input = 'Gpt2 model is a natural'\n",
    "\n",
    "result = generate(input, 30, 3)\n",
    "\n",
    "print_output(result)"
   ]
  },
  {
   "cell_type": "code",
   "execution_count": 28,
   "metadata": {},
   "outputs": [
    {
     "name": "stderr",
     "output_type": "stream",
     "text": [
      "Setting `pad_token_id` to `eos_token_id`:50256 for open-end generation.\n"
     ]
    },
    {
     "name": "stdout",
     "output_type": "stream",
     "text": [
      "Output 1:\n",
      "Python is a programming language that can be written in PHP. This article discusses the concepts that make the language possible to write. There are many of them in various places:\n",
      "\n",
      "How to write an operating system\n",
      "\n",
      "In fact, while the language\n",
      "=============================================================\n",
      "Output 2:\n",
      "Python is a programming language, but that doesn't mean it should be the best of the best. As a native language, it certainly isn't easy to achieve performance through language learning. As such, most of Android developers do not have good reasons to\n",
      "=============================================================\n"
     ]
    }
   ],
   "source": [
    "input = 'Python is a programming language'\n",
    "\n",
    "result = generate(input, 50, 2)\n",
    "\n",
    "print_output(result)"
   ]
  },
  {
   "cell_type": "code",
   "execution_count": 29,
   "metadata": {},
   "outputs": [
    {
     "name": "stderr",
     "output_type": "stream",
     "text": [
      "Setting `pad_token_id` to `eos_token_id`:50256 for open-end generation.\n"
     ]
    },
    {
     "name": "stdout",
     "output_type": "stream",
     "text": [
      "Output 1:\n",
      "Pep8 is the coding standard guidelines used for coding with python.\n",
      "\n",
      "Here are some examples and descriptions of the syntax used in C:\n",
      "\n",
      "$ python --python-mki --coding-as-coding\n",
      "\n",
      "\n",
      "Example:\n",
      "\n",
      "( defun pep8-python-mki-generate-text ( buffer-size ) ( if ( pep8-python-mki-generate-text buffer-size ) ( if (pep8-\n",
      "=============================================================\n"
     ]
    }
   ],
   "source": [
    "input = 'Pep8 is the coding standard guidelines used for coding with python'\n",
    "\n",
    "result = generate(input, 100, 1)\n",
    "\n",
    "print_output(result)"
   ]
  }
 ],
 "metadata": {
  "kernelspec": {
   "display_name": "env",
   "language": "python",
   "name": "python3"
  },
  "language_info": {
   "codemirror_mode": {
    "name": "ipython",
    "version": 3
   },
   "file_extension": ".py",
   "mimetype": "text/x-python",
   "name": "python",
   "nbconvert_exporter": "python",
   "pygments_lexer": "ipython3",
   "version": "3.10.7"
  },
  "orig_nbformat": 4,
  "vscode": {
   "interpreter": {
    "hash": "f48342ffccf601c0e1a459e2f018022a224cde8f7a2f6c56943c57ef30903e23"
   }
  }
 },
 "nbformat": 4,
 "nbformat_minor": 2
}
